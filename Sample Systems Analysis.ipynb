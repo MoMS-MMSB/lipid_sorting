{
 "cells": [
  {
   "cell_type": "code",
   "execution_count": 1,
   "id": "13d98563",
   "metadata": {},
   "outputs": [],
   "source": [
    "from src import modules\n",
    "import MDAnalysis as mda\n",
    "from tqdm.notebook import tqdm\n",
    "import numpy as np\n",
    "import pandas as pd\n",
    "import matplotlib.pyplot as plt\n",
    "plt.rcParams['figure.figsize'] = [20, 15]"
   ]
  },
  {
   "cell_type": "code",
   "execution_count": 2,
   "id": "1ab1deb2",
   "metadata": {},
   "outputs": [],
   "source": [
    "%load_ext autoreload\n",
    "%autoreload 2"
   ]
  },
  {
   "cell_type": "code",
   "execution_count": 3,
   "id": "0b0c79a4",
   "metadata": {},
   "outputs": [],
   "source": [
    "colours = {\"DOPC\": \"red\",\n",
    "           \"POPC\": \"blue\",\n",
    "           \"POPE\": \"orange\"}"
   ]
  },
  {
   "cell_type": "markdown",
   "id": "7f5807d5",
   "metadata": {},
   "source": [
    "# DOPC & POPC"
   ]
  },
  {
   "cell_type": "code",
   "execution_count": 4,
   "id": "929422e3",
   "metadata": {},
   "outputs": [
    {
     "name": "stderr",
     "output_type": "stream",
     "text": [
      "/home/jcrowley/.conda/envs/prime/lib/python3.10/site-packages/MDAnalysis/topology/guessers.py:146: UserWarning: Failed to guess the mass for the following atom types: D\n",
      "  warnings.warn(\"Failed to guess the mass for the following atom types: {}\".format(atom_type))\n",
      "/home/jcrowley/.conda/envs/prime/lib/python3.10/site-packages/MDAnalysis/topology/guessers.py:146: UserWarning: Failed to guess the mass for the following atom types: G\n",
      "  warnings.warn(\"Failed to guess the mass for the following atom types: {}\".format(atom_type))\n"
     ]
    }
   ],
   "source": [
    "root = \"/data1/jackson/MD/Membrane_Systems/Tubules/\"\n",
    "\n",
    "DOPC_POPC_10 = mda.Universe(root + \"DOPC_POPC/r10/production/noW.gro\", \n",
    "                 root + \"DOPC_POPC/r10/production/noW.xtc\")\n",
    "\n",
    "DOPC_POPC_20 = mda.Universe(root + \"DOPC_POPC/r20/production/noW.gro\", \n",
    "                 root + \"DOPC_POPC/r20/production/noW.xtc\")\n",
    "\n",
    "DOPC_POPC_30 = mda.Universe(root + \"DOPC_POPC/r30/production/noW.gro\", \n",
    "                 root + \"DOPC_POPC/r30/production/noW.xtc\")\n",
    "\n",
    "POPC_POPE_10 = mda.Universe(root + \"/POPC_POPE/r10/production/noW.gro\", \n",
    "                 root + \"POPC_POPE/r10/production/noW.xtc\")\n",
    "\n",
    "POPC_POPE_20 = mda.Universe(root + \"POPC_POPE/r20/production/noW.gro\", \n",
    "                 root + \"POPC_POPE/r20/production/noW.xtc\")\n",
    "\n",
    "POPC_POPE_30 = mda.Universe(root + \"POPC_POPE/r30/production/noW.gro\", \n",
    "                 root + \"POPC_POPE/r30/production/noW.xtc\")"
   ]
  },
  {
   "cell_type": "markdown",
   "id": "10ea29d4",
   "metadata": {},
   "source": [
    "## Radius = 10nm"
   ]
  },
  {
   "cell_type": "code",
   "execution_count": 7,
   "id": "750d9a6d",
   "metadata": {},
   "outputs": [
    {
     "data": {
      "application/vnd.jupyter.widget-view+json": {
       "model_id": "5238dbca6e6b42828182b8c2c0a92f95",
       "version_major": 2,
       "version_minor": 0
      },
      "text/plain": [
       "  0%|          | 0/11 [00:00<?, ?it/s]"
      ]
     },
     "metadata": {},
     "output_type": "display_data"
    },
    {
     "name": "stderr",
     "output_type": "stream",
     "text": [
      "No artists with labels found to put in legend.  Note that artists whose label start with an underscore are ignored when legend() is called with no argument.\n"
     ]
    },
    {
     "data": {
      "image/png": "[encoded data removed]",
      "text/plain": [
       "<Figure size 432x288 with 1 Axes>"
      ]
     },
     "metadata": {
      "needs_background": "light"
     },
     "output_type": "display_data"
    }
   ],
   "source": [
    "modules.process_trajectory_jupyter(DOPC_POPC_10, title=\"DOPC & POPC, Radius 10nm\", rolling=50, colours=colours)"
   ]
  },
  {
   "cell_type": "markdown",
   "id": "77cdecdd",
   "metadata": {},
   "source": [
    "## Radius = 20nm"
   ]
  },
  {
   "cell_type": "code",
   "execution_count": null,
   "id": "f5ead765",
   "metadata": {},
   "outputs": [],
   "source": [
    "modules.process_trajectory_jupyter(DOPC_POPC_20,title=\"DOPC & POPC, Radius 20nm\", rolling=50, colours=colours)"
   ]
  },
  {
   "cell_type": "markdown",
   "id": "b40b6a3c",
   "metadata": {},
   "source": [
    "## Radius = 30nm"
   ]
  },
  {
   "cell_type": "code",
   "execution_count": null,
   "id": "d5626902",
   "metadata": {},
   "outputs": [],
   "source": [
    "modules.process_trajectory_jupyter(DOPC_POPC_30,title=\"DOPC & POPC, Radius 30nm\", rolling=50, colours=colours)"
   ]
  },
  {
   "cell_type": "markdown",
   "id": "bdaf2a4e",
   "metadata": {},
   "source": [
    "# POPC & POPE"
   ]
  },
  {
   "cell_type": "markdown",
   "id": "0a824a87",
   "metadata": {},
   "source": [
    "## Radius = 10nm"
   ]
  },
  {
   "cell_type": "code",
   "execution_count": null,
   "id": "089f3d68",
   "metadata": {},
   "outputs": [],
   "source": [
    "modules.process_trajectory_jupyter(POPC_POPE_10, title=\"POPC & POPE, Radius 10nm\", rolling=50, colours=colours, skip=100)"
   ]
  },
  {
   "cell_type": "markdown",
   "id": "aea861c2",
   "metadata": {},
   "source": [
    "## Radius = 20nm"
   ]
  },
  {
   "cell_type": "code",
   "execution_count": null,
   "id": "b9cc3a3a",
   "metadata": {},
   "outputs": [],
   "source": [
    "modules.process_trajectory_jupyter(POPC_POPE_20, title=\"POPC & POPE, Radius 20nm\", rolling=50, colours=colours, skip=1)"
   ]
  },
  {
   "cell_type": "markdown",
   "id": "3305b12a",
   "metadata": {},
   "source": [
    "## Radius = 30nm"
   ]
  },
  {
   "cell_type": "code",
   "execution_count": null,
   "id": "d122e71f",
   "metadata": {},
   "outputs": [],
   "source": [
    "modules.process_trajectory_jupyter(POPC_POPE_30, title=\"POPC & POPE, Radius 30nm\", rolling=50, colours=colours, skip=1)"
   ]
  }
 ],
 "metadata": {
  "kernelspec": {
   "display_name": "Python 3 (ipykernel)",
   "language": "python",
   "name": "python3"
  },
  "language_info": {
   "codemirror_mode": {
    "name": "ipython",
    "version": 3
   },
   "file_extension": ".py",
   "mimetype": "text/x-python",
   "name": "python",
   "nbconvert_exporter": "python",
   "pygments_lexer": "ipython3",
   "version": "3.10.5"
  }
 },
 "nbformat": 4,
 "nbformat_minor": 5
}
