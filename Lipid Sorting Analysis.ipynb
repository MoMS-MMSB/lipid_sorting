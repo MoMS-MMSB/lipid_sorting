{
 "cells": [
  {
   "cell_type": "code",
   "execution_count": 1,
   "metadata": {},
   "outputs": [
    {
     "name": "stderr",
     "output_type": "stream",
     "text": [
      "/usr/local/Caskroom/miniconda/base/envs/mda/lib/python3.9/site-packages/tqdm/auto.py:22: TqdmWarning: IProgress not found. Please update jupyter and ipywidgets. See https://ipywidgets.readthedocs.io/en/stable/user_install.html\n",
      "  from .autonotebook import tqdm as notebook_tqdm\n",
      "/usr/local/Caskroom/miniconda/base/envs/mda/lib/python3.9/site-packages/MDAnalysis/topology/guessers.py:146: UserWarning: Failed to guess the mass for the following atom types: D\n",
      "  warnings.warn(\"Failed to guess the mass for the following atom types: {}\".format(atom_type))\n",
      "/usr/local/Caskroom/miniconda/base/envs/mda/lib/python3.9/site-packages/MDAnalysis/topology/guessers.py:146: UserWarning: Failed to guess the mass for the following atom types: G\n",
      "  warnings.warn(\"Failed to guess the mass for the following atom types: {}\".format(atom_type))\n",
      "/usr/local/Caskroom/miniconda/base/envs/mda/lib/python3.9/site-packages/MDAnalysis/topology/guessers.py:146: UserWarning: Failed to guess the mass for the following atom types: R\n",
      "  warnings.warn(\"Failed to guess the mass for the following atom types: {}\".format(atom_type))\n"
     ]
    }
   ],
   "source": [
    "from src import modules\n",
    "import MDAnalysis as mda"
   ]
  },
  {
   "cell_type": "code",
   "execution_count": 2,
   "metadata": {},
   "outputs": [],
   "source": [
    "%load_ext autoreload\n",
    "%autoreload 2"
   ]
  },
  {
   "cell_type": "code",
   "execution_count": 3,
   "metadata": {},
   "outputs": [],
   "source": [
    "u = mda.Universe(\"./test_systems/ER8_r10.gro\")"
   ]
  },
  {
   "cell_type": "code",
   "execution_count": 4,
   "metadata": {},
   "outputs": [
    {
     "data": {
      "text/plain": [
       "array([149.45983935, 150.88803803, 150.31687643])"
      ]
     },
     "execution_count": 4,
     "metadata": {},
     "output_type": "execute_result"
    }
   ],
   "source": [
    "modules.non_water_COG(u)"
   ]
  },
  {
   "cell_type": "code",
   "execution_count": 5,
   "metadata": {},
   "outputs": [
    {
     "ename": "ValueError",
     "evalue": "Failed to construct topology from file <AtomGroup [<Atom 1: NC3 of type N of resname DOPC, resid 1 and segid SYSTEM>, <Atom 2: PO4 of type P of resname DOPC, resid 1 and segid SYSTEM>, <Atom 3: GL1 of type G of resname DOPC, resid 1 and segid SYSTEM>, ..., <Atom 234027: W of type W of resname W, resid 163354 and segid SYSTEM>, <Atom 234028: W of type W of resname W, resid 163355 and segid SYSTEM>, <Atom 234029: W of type W of resname W, resid 163356 and segid SYSTEM>]> with parser <class 'MDAnalysis.topology.MinimalParser.MinimalParser'>.\nError: ChainReader cannot deduce the number of atoms",
     "output_type": "error",
     "traceback": [
      "\u001b[0;31m---------------------------------------------------------------------------\u001b[0m",
      "\u001b[0;31mKeyError\u001b[0m                                  Traceback (most recent call last)",
      "File \u001b[0;32m/usr/local/Caskroom/miniconda/base/envs/mda/lib/python3.9/site-packages/MDAnalysis/topology/MinimalParser.py:64\u001b[0m, in \u001b[0;36mMinimalParser.parse\u001b[0;34m(self, **kwargs)\u001b[0m\n\u001b[1;32m     63\u001b[0m \u001b[39mtry\u001b[39;00m:\n\u001b[0;32m---> 64\u001b[0m     n_atoms \u001b[39m=\u001b[39m kwargs[\u001b[39m'\u001b[39;49m\u001b[39mn_atoms\u001b[39;49m\u001b[39m'\u001b[39;49m]\n\u001b[1;32m     65\u001b[0m \u001b[39mexcept\u001b[39;00m \u001b[39mKeyError\u001b[39;00m:\n",
      "\u001b[0;31mKeyError\u001b[0m: 'n_atoms'",
      "\nDuring handling of the above exception, another exception occurred:\n",
      "\u001b[0;31mNotImplementedError\u001b[0m                       Traceback (most recent call last)",
      "File \u001b[0;32m/usr/local/Caskroom/miniconda/base/envs/mda/lib/python3.9/site-packages/MDAnalysis/core/universe.py:110\u001b[0m, in \u001b[0;36m_topology_from_file_like\u001b[0;34m(topology_file, topology_format, **kwargs)\u001b[0m\n\u001b[1;32m    109\u001b[0m     \u001b[39mwith\u001b[39;00m parser(topology_file) \u001b[39mas\u001b[39;00m p:\n\u001b[0;32m--> 110\u001b[0m         topology \u001b[39m=\u001b[39m p\u001b[39m.\u001b[39;49mparse(\u001b[39m*\u001b[39;49m\u001b[39m*\u001b[39;49mkwargs)\n\u001b[1;32m    111\u001b[0m \u001b[39mexcept\u001b[39;00m (\u001b[39mIOError\u001b[39;00m, \u001b[39mOSError\u001b[39;00m) \u001b[39mas\u001b[39;00m err:\n\u001b[1;32m    112\u001b[0m     \u001b[39m# There are 2 kinds of errors that might be raised here:\u001b[39;00m\n\u001b[1;32m    113\u001b[0m     \u001b[39m# one because the file isn't present\u001b[39;00m\n\u001b[1;32m    114\u001b[0m     \u001b[39m# or the permissions are bad, second when the parser fails\u001b[39;00m\n",
      "File \u001b[0;32m/usr/local/Caskroom/miniconda/base/envs/mda/lib/python3.9/site-packages/MDAnalysis/topology/MinimalParser.py:67\u001b[0m, in \u001b[0;36mMinimalParser.parse\u001b[0;34m(self, **kwargs)\u001b[0m\n\u001b[1;32m     66\u001b[0m     reader \u001b[39m=\u001b[39m get_reader_for(\u001b[39mself\u001b[39m\u001b[39m.\u001b[39mfilename)\n\u001b[0;32m---> 67\u001b[0m     n_atoms \u001b[39m=\u001b[39m reader\u001b[39m.\u001b[39;49mparse_n_atoms(\u001b[39mself\u001b[39;49m\u001b[39m.\u001b[39;49mfilename, \u001b[39m*\u001b[39;49m\u001b[39m*\u001b[39;49mkwargs)\n\u001b[1;32m     69\u001b[0m \u001b[39mreturn\u001b[39;00m Topology(n_atoms, \u001b[39m1\u001b[39m, \u001b[39m1\u001b[39m)\n",
      "File \u001b[0;32m/usr/local/Caskroom/miniconda/base/envs/mda/lib/python3.9/site-packages/MDAnalysis/coordinates/base.py:688\u001b[0m, in \u001b[0;36mProtoReader.parse_n_atoms\u001b[0;34m(cls, filename, **kwargs)\u001b[0m\n\u001b[1;32m    676\u001b[0m \u001b[39m\"\"\"Read the coordinate file and deduce the number of atoms\u001b[39;00m\n\u001b[1;32m    677\u001b[0m \n\u001b[1;32m    678\u001b[0m \u001b[39mReturns\u001b[39;00m\n\u001b[0;32m   (...)\u001b[0m\n\u001b[1;32m    686\u001b[0m \u001b[39m  when the number of atoms can't be deduced\u001b[39;00m\n\u001b[1;32m    687\u001b[0m \u001b[39m\"\"\"\u001b[39;00m\n\u001b[0;32m--> 688\u001b[0m \u001b[39mraise\u001b[39;00m \u001b[39mNotImplementedError\u001b[39;00m(\u001b[39m\"\u001b[39m\u001b[39m{}\u001b[39;00m\u001b[39m cannot deduce the number of atoms\u001b[39m\u001b[39m\"\u001b[39m\n\u001b[1;32m    689\u001b[0m                           \u001b[39m\"\u001b[39m\u001b[39m\"\u001b[39m\u001b[39m.\u001b[39mformat(\u001b[39mcls\u001b[39m\u001b[39m.\u001b[39m\u001b[39m__name__\u001b[39m))\n",
      "\u001b[0;31mNotImplementedError\u001b[0m: ChainReader cannot deduce the number of atoms",
      "\nDuring handling of the above exception, another exception occurred:\n",
      "\u001b[0;31mValueError\u001b[0m                                Traceback (most recent call last)",
      "\u001b[1;32m/Users/jcrowley/MD/lipid_sorting/Lipid Sorting Analysis.ipynb Cell 5\u001b[0m in \u001b[0;36m<cell line: 1>\u001b[0;34m()\u001b[0m\n\u001b[0;32m----> <a href='vscode-notebook-cell:/Users/jcrowley/MD/lipid_sorting/Lipid%20Sorting%20Analysis.ipynb#W4sZmlsZQ%3D%3D?line=0'>1</a>\u001b[0m modules\u001b[39m.\u001b[39;49mresidue_names(u)\n",
      "File \u001b[0;32m~/MD/lipid_sorting/src/modules.py:12\u001b[0m, in \u001b[0;36mresidue_names\u001b[0;34m(universe)\u001b[0m\n\u001b[1;32m     11\u001b[0m \u001b[39mdef\u001b[39;00m \u001b[39mresidue_names\u001b[39m(universe):\n\u001b[0;32m---> 12\u001b[0m     u \u001b[39m=\u001b[39m mda\u001b[39m.\u001b[39;49mUniverse(universe\u001b[39m.\u001b[39;49mselect_atoms(\u001b[39m\"\u001b[39;49m\u001b[39mall\u001b[39;49m\u001b[39m\"\u001b[39;49m))\n\u001b[1;32m     13\u001b[0m     \u001b[39m\"\"\"\u001b[39;00m\n\u001b[1;32m     14\u001b[0m \u001b[39m    return a list of all residue names.\u001b[39;00m\n\u001b[1;32m     15\u001b[0m \u001b[39m    \"\"\"\u001b[39;00m\n\u001b[1;32m     16\u001b[0m     unique_residue_names \u001b[39m=\u001b[39m []\n",
      "File \u001b[0;32m/usr/local/Caskroom/miniconda/base/envs/mda/lib/python3.9/site-packages/MDAnalysis/core/universe.py:346\u001b[0m, in \u001b[0;36mUniverse.__init__\u001b[0;34m(self, topology, all_coordinates, format, topology_format, transformations, guess_bonds, vdwradii, in_memory, in_memory_step, *coordinates, **kwargs)\u001b[0m\n\u001b[1;32m    344\u001b[0m \u001b[39mif\u001b[39;00m \u001b[39mnot\u001b[39;00m \u001b[39misinstance\u001b[39m(topology, Topology) \u001b[39mand\u001b[39;00m \u001b[39mnot\u001b[39;00m topology \u001b[39mis\u001b[39;00m \u001b[39mNone\u001b[39;00m:\n\u001b[1;32m    345\u001b[0m     \u001b[39mself\u001b[39m\u001b[39m.\u001b[39mfilename \u001b[39m=\u001b[39m _check_file_like(topology)\n\u001b[0;32m--> 346\u001b[0m     topology \u001b[39m=\u001b[39m _topology_from_file_like(\u001b[39mself\u001b[39;49m\u001b[39m.\u001b[39;49mfilename,\n\u001b[1;32m    347\u001b[0m                                         topology_format\u001b[39m=\u001b[39;49mtopology_format,\n\u001b[1;32m    348\u001b[0m                                         \u001b[39m*\u001b[39;49m\u001b[39m*\u001b[39;49mkwargs)\n\u001b[1;32m    350\u001b[0m \u001b[39mif\u001b[39;00m topology \u001b[39mis\u001b[39;00m \u001b[39mnot\u001b[39;00m \u001b[39mNone\u001b[39;00m:\n\u001b[1;32m    351\u001b[0m     \u001b[39mself\u001b[39m\u001b[39m.\u001b[39m_topology \u001b[39m=\u001b[39m topology\n",
      "File \u001b[0;32m/usr/local/Caskroom/miniconda/base/envs/mda/lib/python3.9/site-packages/MDAnalysis/core/universe.py:125\u001b[0m, in \u001b[0;36m_topology_from_file_like\u001b[0;34m(topology_file, topology_format, **kwargs)\u001b[0m\n\u001b[1;32m    121\u001b[0m         \u001b[39mraise\u001b[39;00m \u001b[39mIOError\u001b[39;00m(\u001b[39m\"\u001b[39m\u001b[39mFailed to load from the topology file \u001b[39m\u001b[39m{0}\u001b[39;00m\u001b[39m\"\u001b[39m\n\u001b[1;32m    122\u001b[0m                         \u001b[39m\"\u001b[39m\u001b[39m with parser \u001b[39m\u001b[39m{1}\u001b[39;00m\u001b[39m.\u001b[39m\u001b[39m\\n\u001b[39;00m\u001b[39m\"\u001b[39m\n\u001b[1;32m    123\u001b[0m                         \u001b[39m\"\u001b[39m\u001b[39mError: \u001b[39m\u001b[39m{2}\u001b[39;00m\u001b[39m\"\u001b[39m\u001b[39m.\u001b[39mformat(topology_file, parser, err))\n\u001b[1;32m    124\u001b[0m \u001b[39mexcept\u001b[39;00m (\u001b[39mValueError\u001b[39;00m, \u001b[39mNotImplementedError\u001b[39;00m) \u001b[39mas\u001b[39;00m err:\n\u001b[0;32m--> 125\u001b[0m     \u001b[39mraise\u001b[39;00m \u001b[39mValueError\u001b[39;00m(\n\u001b[1;32m    126\u001b[0m         \u001b[39m\"\u001b[39m\u001b[39mFailed to construct topology from file \u001b[39m\u001b[39m{0}\u001b[39;00m\u001b[39m\"\u001b[39m\n\u001b[1;32m    127\u001b[0m         \u001b[39m\"\u001b[39m\u001b[39m with parser \u001b[39m\u001b[39m{1}\u001b[39;00m\u001b[39m.\u001b[39m\u001b[39m\\n\u001b[39;00m\u001b[39m\"\u001b[39m\n\u001b[1;32m    128\u001b[0m         \u001b[39m\"\u001b[39m\u001b[39mError: \u001b[39m\u001b[39m{2}\u001b[39;00m\u001b[39m\"\u001b[39m\u001b[39m.\u001b[39mformat(topology_file, parser, err))\n\u001b[1;32m    129\u001b[0m \u001b[39mreturn\u001b[39;00m topology\n",
      "\u001b[0;31mValueError\u001b[0m: Failed to construct topology from file <AtomGroup [<Atom 1: NC3 of type N of resname DOPC, resid 1 and segid SYSTEM>, <Atom 2: PO4 of type P of resname DOPC, resid 1 and segid SYSTEM>, <Atom 3: GL1 of type G of resname DOPC, resid 1 and segid SYSTEM>, ..., <Atom 234027: W of type W of resname W, resid 163354 and segid SYSTEM>, <Atom 234028: W of type W of resname W, resid 163355 and segid SYSTEM>, <Atom 234029: W of type W of resname W, resid 163356 and segid SYSTEM>]> with parser <class 'MDAnalysis.topology.MinimalParser.MinimalParser'>.\nError: ChainReader cannot deduce the number of atoms"
     ]
    }
   ],
   "source": [
    "modules.residue_names(u)"
   ]
  },
  {
   "cell_type": "code",
   "execution_count": null,
   "metadata": {},
   "outputs": [],
   "source": [
    "for atom in u.atoms:\n",
    "    print(1)"
   ]
  },
  {
   "cell_type": "code",
   "execution_count": null,
   "metadata": {},
   "outputs": [],
   "source": []
  }
 ],
 "metadata": {
  "kernelspec": {
   "display_name": "mda",
   "language": "python",
   "name": "python3"
  },
  "language_info": {
   "codemirror_mode": {
    "name": "ipython",
    "version": 3
   },
   "file_extension": ".py",
   "mimetype": "text/x-python",
   "name": "python",
   "nbconvert_exporter": "python",
   "pygments_lexer": "ipython3",
   "version": "3.9.15 (main, Nov 24 2022, 08:29:02) \n[Clang 14.0.6 ]"
  },
  "orig_nbformat": 4,
  "vscode": {
   "interpreter": {
    "hash": "2d32e52fbb42c59a795c4d07f4ed8eaf814bb1a4b8b3c4b875b4e31634343d4c"
   }
  }
 },
 "nbformat": 4,
 "nbformat_minor": 2
}
