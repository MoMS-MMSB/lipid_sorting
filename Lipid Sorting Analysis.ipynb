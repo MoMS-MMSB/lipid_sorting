{
 "cells": [
  {
   "cell_type": "code",
   "execution_count": 1,
   "metadata": {},
   "outputs": [
    {
     "name": "stderr",
     "output_type": "stream",
     "text": [
      "/usr/local/Caskroom/miniconda/base/envs/mda/lib/python3.9/site-packages/tqdm/auto.py:22: TqdmWarning: IProgress not found. Please update jupyter and ipywidgets. See https://ipywidgets.readthedocs.io/en/stable/user_install.html\n",
      "  from .autonotebook import tqdm as notebook_tqdm\n",
      "/usr/local/Caskroom/miniconda/base/envs/mda/lib/python3.9/site-packages/MDAnalysis/topology/guessers.py:146: UserWarning: Failed to guess the mass for the following atom types: D\n",
      "  warnings.warn(\"Failed to guess the mass for the following atom types: {}\".format(atom_type))\n",
      "/usr/local/Caskroom/miniconda/base/envs/mda/lib/python3.9/site-packages/MDAnalysis/topology/guessers.py:146: UserWarning: Failed to guess the mass for the following atom types: G\n",
      "  warnings.warn(\"Failed to guess the mass for the following atom types: {}\".format(atom_type))\n",
      "/usr/local/Caskroom/miniconda/base/envs/mda/lib/python3.9/site-packages/MDAnalysis/topology/guessers.py:146: UserWarning: Failed to guess the mass for the following atom types: R\n",
      "  warnings.warn(\"Failed to guess the mass for the following atom types: {}\".format(atom_type))\n"
     ]
    }
   ],
   "source": [
    "from src import modules\n",
    "import MDAnalysis as mda"
   ]
  },
  {
   "cell_type": "code",
   "execution_count": 2,
   "metadata": {},
   "outputs": [],
   "source": [
    "%load_ext autoreload\n",
    "%autoreload 2"
   ]
  },
  {
   "cell_type": "code",
   "execution_count": 3,
   "metadata": {},
   "outputs": [],
   "source": [
    "u = mda.Universe(\"./test_systems/ER8_r10.gro\")"
   ]
  },
  {
   "cell_type": "code",
   "execution_count": 4,
   "metadata": {},
   "outputs": [
    {
     "name": "stdout",
     "output_type": "stream",
     "text": [
      "<Universe with 234029 atoms>\n",
      "DOPC 714 631\n",
      "[[714, 631]]\n",
      "POPC 722 623\n",
      "[[714, 631], [722, 623]]\n",
      "DOPE 624 614\n",
      "[[714, 631], [722, 623], [624, 614]]\n",
      "POPI 554 522\n",
      "[[714, 631], [722, 623], [624, 614], [554, 522]]\n",
      "CHOL 535 541\n",
      "[[714, 631], [722, 623], [624, 614], [554, 522], [535, 541]]\n",
      "DOPS 81 79\n",
      "[[714, 631], [722, 623], [624, 614], [554, 522], [535, 541], [81, 79]]\n",
      "DOPA 55 52\n",
      "[[714, 631], [722, 623], [624, 614], [554, 522], [535, 541], [81, 79], [55, 52]]\n",
      "DO 48 59\n",
      "[[714, 631], [722, 623], [624, 614], [554, 522], [535, 541], [81, 79], [55, 52], [48, 59]]\n"
     ]
    },
    {
     "ename": "KeyboardInterrupt",
     "evalue": "",
     "output_type": "error",
     "traceback": [
      "\u001b[0;31m---------------------------------------------------------------------------\u001b[0m",
      "\u001b[0;31mKeyboardInterrupt\u001b[0m                         Traceback (most recent call last)",
      "\u001b[1;32m/Users/jcrowley/MD/lipid_sorting/Lipid Sorting Analysis.ipynb Cell 4\u001b[0m in \u001b[0;36m<cell line: 1>\u001b[0;34m()\u001b[0m\n\u001b[0;32m----> <a href='vscode-notebook-cell:/Users/jcrowley/MD/lipid_sorting/Lipid%20Sorting%20Analysis.ipynb#W3sZmlsZQ%3D%3D?line=0'>1</a>\u001b[0m modules\u001b[39m.\u001b[39;49mlipids_per_tubule_leaflet(u)\n",
      "File \u001b[0;32m~/MD/lipid_sorting/src/modules.py:76\u001b[0m, in \u001b[0;36mlipids_per_tubule_leaflet\u001b[0;34m(universe, residue_atom_dict, axis, center)\u001b[0m\n\u001b[1;32m     74\u001b[0m residue_totals \u001b[39m=\u001b[39m []\n\u001b[1;32m     75\u001b[0m \u001b[39mfor\u001b[39;00m i \u001b[39min\u001b[39;00m \u001b[39mrange\u001b[39m(\u001b[39mlen\u001b[39m(heads)):\n\u001b[0;32m---> 76\u001b[0m     head_coords \u001b[39m=\u001b[39m [heads\u001b[39m.\u001b[39;49mpositions[i][dims[\u001b[39m0\u001b[39m]], heads\u001b[39m.\u001b[39mpositions[i][dims[\u001b[39m1\u001b[39m]]]\n\u001b[1;32m     77\u001b[0m     tail_coords \u001b[39m=\u001b[39m [tails\u001b[39m.\u001b[39mpositions[i][dims[\u001b[39m0\u001b[39m]], tails\u001b[39m.\u001b[39mpositions[i][dims[\u001b[39m1\u001b[39m]]]\n\u001b[1;32m     78\u001b[0m     head_dist \u001b[39m=\u001b[39m (distance_between_points(head_coords, tubule_center))\n",
      "File \u001b[0;32m/usr/local/Caskroom/miniconda/base/envs/mda/lib/python3.9/site-packages/MDAnalysis/core/groups.py:2775\u001b[0m, in \u001b[0;36mAtomGroup.positions\u001b[0;34m(self)\u001b[0m\n\u001b[1;32m   2744\u001b[0m \u001b[39m@property\u001b[39m\n\u001b[1;32m   2745\u001b[0m \u001b[39mdef\u001b[39;00m \u001b[39mpositions\u001b[39m(\u001b[39mself\u001b[39m):\n\u001b[1;32m   2746\u001b[0m     \u001b[39mr\u001b[39m\u001b[39m\"\"\"Coordinates of the :class:`Atoms<Atom>` in the :class:`AtomGroup`.\u001b[39;00m\n\u001b[1;32m   2747\u001b[0m \n\u001b[1;32m   2748\u001b[0m \u001b[39m    A :class:`numpy.ndarray` with\u001b[39;00m\n\u001b[0;32m   (...)\u001b[0m\n\u001b[1;32m   2773\u001b[0m \u001b[39m        :attr:`~MDAnalysis.coordinates.timestep.Timestep.positions`.\u001b[39;00m\n\u001b[1;32m   2774\u001b[0m \u001b[39m    \"\"\"\u001b[39;00m\n\u001b[0;32m-> 2775\u001b[0m     \u001b[39mreturn\u001b[39;00m \u001b[39mself\u001b[39;49m\u001b[39m.\u001b[39;49muniverse\u001b[39m.\u001b[39;49mtrajectory\u001b[39m.\u001b[39;49mts\u001b[39m.\u001b[39;49mpositions[\u001b[39mself\u001b[39;49m\u001b[39m.\u001b[39;49mix]\n",
      "\u001b[0;31mKeyboardInterrupt\u001b[0m: "
     ]
    }
   ],
   "source": [
    "modules.lipids_per_tubule_leaflet(u)"
   ]
  },
  {
   "cell_type": "code",
   "execution_count": null,
   "metadata": {},
   "outputs": [],
   "source": []
  }
 ],
 "metadata": {
  "kernelspec": {
   "display_name": "mda",
   "language": "python",
   "name": "python3"
  },
  "language_info": {
   "codemirror_mode": {
    "name": "ipython",
    "version": 3
   },
   "file_extension": ".py",
   "mimetype": "text/x-python",
   "name": "python",
   "nbconvert_exporter": "python",
   "pygments_lexer": "ipython3",
   "version": "3.9.15"
  },
  "orig_nbformat": 4,
  "vscode": {
   "interpreter": {
    "hash": "2d32e52fbb42c59a795c4d07f4ed8eaf814bb1a4b8b3c4b875b4e31634343d4c"
   }
  }
 },
 "nbformat": 4,
 "nbformat_minor": 2
}
