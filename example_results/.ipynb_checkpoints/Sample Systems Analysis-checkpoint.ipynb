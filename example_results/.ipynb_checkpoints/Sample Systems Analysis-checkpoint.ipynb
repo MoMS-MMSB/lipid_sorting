{
 "cells": [
  {
   "cell_type": "code",
   "execution_count": 1,
   "id": "c798f8b5",
   "metadata": {},
   "outputs": [
    {
     "ename": "ModuleNotFoundError",
     "evalue": "No module named 'src'",
     "output_type": "error",
     "traceback": [
      "\u001b[0;31m---------------------------------------------------------------------------\u001b[0m",
      "\u001b[0;31mModuleNotFoundError\u001b[0m                       Traceback (most recent call last)",
      "Input \u001b[0;32mIn [1]\u001b[0m, in \u001b[0;36m<cell line: 1>\u001b[0;34m()\u001b[0m\n\u001b[0;32m----> 1\u001b[0m \u001b[38;5;28;01mfrom\u001b[39;00m \u001b[38;5;21;01msrc\u001b[39;00m \u001b[38;5;28;01mimport\u001b[39;00m analysis_modules\n\u001b[1;32m      2\u001b[0m \u001b[38;5;28;01mimport\u001b[39;00m \u001b[38;5;21;01mMDAnalysis\u001b[39;00m \u001b[38;5;28;01mas\u001b[39;00m \u001b[38;5;21;01mmda\u001b[39;00m\n\u001b[1;32m      3\u001b[0m \u001b[38;5;28;01mfrom\u001b[39;00m \u001b[38;5;21;01mtqdm\u001b[39;00m\u001b[38;5;21;01m.\u001b[39;00m\u001b[38;5;21;01mnotebook\u001b[39;00m \u001b[38;5;28;01mimport\u001b[39;00m tqdm\n",
      "\u001b[0;31mModuleNotFoundError\u001b[0m: No module named 'src'"
     ]
    }
   ],
   "source": [
    "from src import analysis_modules\n",
    "import MDAnalysis as mda\n",
    "from tqdm.notebook import tqdm\n",
    "import numpy as np\n",
    "import pandas as pd\n",
    "import matplotlib.pyplot as plt\n",
    "plt.rcParams['figure.figsize'] = [15, 10]\n",
    "plt.rcParams.update({'font.size': 25})"
   ]
  },
  {
   "cell_type": "code",
   "execution_count": null,
   "id": "6c48e649",
   "metadata": {},
   "outputs": [],
   "source": [
    "%load_ext autoreload\n",
    "%autoreload 2"
   ]
  },
  {
   "cell_type": "code",
   "execution_count": null,
   "id": "d3645949",
   "metadata": {},
   "outputs": [],
   "source": [
    "colours = {\"DOPC\": \"#00dddd\",\n",
    "           \"POPC\": \"#6a6adf\",\n",
    "           \"POPE\": \"#ffb753\",\n",
    "           \"DOPE\": \"#cee051\",\n",
    "           \"DOPS\": \"red\",\n",
    "           \"DOPA\": \"purple\"}"
   ]
  },
  {
   "cell_type": "code",
   "execution_count": null,
   "id": "2ef99ead",
   "metadata": {},
   "outputs": [],
   "source": [
    "out_dir = \"figures/Plots/\""
   ]
  },
  {
   "cell_type": "markdown",
   "id": "4f066e18",
   "metadata": {},
   "source": [
    "# DOPC & POPC"
   ]
  },
  {
   "cell_type": "code",
   "execution_count": null,
   "id": "8f8da092",
   "metadata": {},
   "outputs": [],
   "source": [
    "results = \"test/example_results/\"\n",
    "\n",
    "DOPC_POPC_10 = results + \"DOPC_POPC_10.csv\"\n",
    "\n",
    "DOPC_POPC_20 = results + \"DOPC_POPC_20.csv\"\n",
    "\n",
    "DOPC_POPC_30 = results + \"DOPC_POPC_30.csv\"\n",
    "\n",
    "POPC_POPE_10 = results + \"POPC_POPE_10.csv\"\n",
    "\n",
    "POPC_POPE_10_10 = results + \"POPC_POPE_10_10.csv\"\n",
    "\n",
    "POPC_POPE_20 = results + \"POPC_POPE_20.csv\"\n",
    "\n",
    "POPC_POPE_30 = results + \"POPC_POPE_30.csv\"\n",
    "\n",
    "ER5_10 = results + \"ER5_10.csv\"\n",
    "\n",
    "ER5_20 = results + \"ER5_20.csv\"\n",
    "\n",
    "ER5_30 = results + \"ER5_30.csv\""
   ]
  },
  {
   "cell_type": "code",
   "execution_count": null,
   "id": "50154ec1",
   "metadata": {},
   "outputs": [],
   "source": [
    "# analysis_modules.csv_to_plot(DOPC_POPC_10, [\"DOPC\", \"POPC\"], rolling=50, bg=True,\\\n",
    "#                     title=\"DOPC & POPC Sorting, Radius = 10nm\", colours=colours, index_scaling=100, \\\n",
    "#                     x_label = \"Microseconds\", out=out_dir + \"DOPC_POPC_r10.png\")"
   ]
  },
  {
   "cell_type": "code",
   "execution_count": null,
   "id": "719dab6d",
   "metadata": {},
   "outputs": [],
   "source": [
    "analysis_modules.csv_to_plot(DOPC_POPC_10, [\"DOPC\", \"POPC\"], rolling=50, bg=True,\\\n",
    "                    title=\"DOPC & POPC Sorting, Radius = 10nm\", colours=colours, index_scaling=100, \\\n",
    "                    x_label = \"Microseconds\")"
   ]
  },
  {
   "cell_type": "code",
   "execution_count": null,
   "id": "30fdde3b",
   "metadata": {},
   "outputs": [],
   "source": [
    "analysis_modules.csv_to_prop_plot(DOPC_POPC_10, [\"DOPC\", \"POPC\"], rolling=50, bg=True,\\\n",
    "                    title=\"DOPC & POPC Sorting, Radius = 10nm\", colours=colours, index_scaling=100, \\\n",
    "                    x_label = \"Microseconds\")"
   ]
  },
  {
   "cell_type": "code",
   "execution_count": null,
   "id": "49d81543",
   "metadata": {},
   "outputs": [],
   "source": [
    "analysis_modules.csv_to_plot(DOPC_POPC_20, [\"DOPC\", \"POPC\"], rolling=50, bg = True, title=\"DOPC & POPC Sorting, Radius = 20nm\", colours=colours, index_scaling=100, x_label = \"Microseconds\", out=out_dir + \"DOPC_POPC_r20.png\")"
   ]
  },
  {
   "cell_type": "code",
   "execution_count": null,
   "id": "fd73a3d9",
   "metadata": {},
   "outputs": [],
   "source": [
    "analysis_modules.csv_to_prop_plot(DOPC_POPC_20, [\"DOPC\", \"POPC\"], rolling=50, bg=True,\\\n",
    "                    title=\"DOPC & POPC Sorting, Radius = 20nm\", colours=colours, index_scaling=100, \\\n",
    "                    x_label = \"Microseconds\")"
   ]
  },
  {
   "cell_type": "code",
   "execution_count": null,
   "id": "58fd1b6f",
   "metadata": {},
   "outputs": [],
   "source": [
    "analysis_modules.csv_to_plot(DOPC_POPC_30, [\"DOPC\", \"POPC\"], rolling=50, bg = True, title=\"DOPC & POPC Sorting, Radius = 30nm\", colours=colours, index_scaling=100, x_label = \"Microseconds\", out=out_dir + \"DOPC_POPC_r30.png\")"
   ]
  },
  {
   "cell_type": "code",
   "execution_count": null,
   "id": "acaa461d",
   "metadata": {},
   "outputs": [],
   "source": [
    "analysis_modules.csv_to_prop_plot(DOPC_POPC_30, [\"DOPC\", \"POPC\"], rolling=50, bg=True,\\\n",
    "                    title=\"DOPC & POPC Sorting, Radius = 30nm\", colours=colours, index_scaling=100, \\\n",
    "                    x_label = \"Microseconds\")"
   ]
  },
  {
   "cell_type": "code",
   "execution_count": null,
   "id": "74642d4f",
   "metadata": {},
   "outputs": [],
   "source": [
    "analysis_modules.csv_to_plot(POPC_POPE_10, [\"POPC\", \"POPE\"], bg = True, title=\"POPC & POPE Sorting, Radius = 10nm\", rolling=50, colours=colours, index_scaling=100, x_label = \"Microseconds\", out=out_dir + \"POPC_POPE_r10.png\")"
   ]
  },
  {
   "cell_type": "code",
   "execution_count": null,
   "id": "9231bfbf",
   "metadata": {},
   "outputs": [],
   "source": [
    "analysis_modules.csv_to_prop_plot(POPC_POPE_10, [\"POPC\", \"POPE\"], rolling=50, bg=True,\\\n",
    "                    title=\"POPC & POPE Sorting, Radius = 10nm\", colours=colours, index_scaling=100, \\\n",
    "                    x_label = \"Microseconds\")"
   ]
  },
  {
   "cell_type": "code",
   "execution_count": null,
   "id": "44ae6670",
   "metadata": {},
   "outputs": [],
   "source": [
    "analysis_modules.csv_to_plot(POPC_POPE_10_10, [\"POPC\", \"POPE\"], bg = True, title=\"POPC & POPE Sorting, Radius = 10nm\", rolling=50, colours=colours, index_scaling=100, x_label = \"Microseconds\", out=out_dir + \"POPC_POPE_r10_l10.png\")"
   ]
  },
  {
   "cell_type": "code",
   "execution_count": null,
   "id": "56735ef3",
   "metadata": {},
   "outputs": [],
   "source": [
    "POPC_POPE_10_10_df = pd.read_csv(POPC_POPE_10_10)\n",
    "POPC_POPE_10_10_df = POPC_POPE_10_10_df.set_index(POPC_POPE_10_10_df.columns[0])"
   ]
  },
  {
   "cell_type": "code",
   "execution_count": null,
   "id": "fef84be4",
   "metadata": {},
   "outputs": [],
   "source": [
    "POPC_POPE_10_10_df"
   ]
  },
  {
   "cell_type": "code",
   "execution_count": null,
   "id": "aa94440e",
   "metadata": {},
   "outputs": [],
   "source": [
    "POPC_POPE_r10_l10_prop = analysis_modules.outer_df_proportions(POPC_POPE_10_10_df)"
   ]
  },
  {
   "cell_type": "code",
   "execution_count": null,
   "id": "27aa5c8f",
   "metadata": {},
   "outputs": [],
   "source": [
    "POPC_POPE_r10_l10_prop"
   ]
  },
  {
   "cell_type": "code",
   "execution_count": null,
   "id": "2b413c13",
   "metadata": {},
   "outputs": [],
   "source": [
    "POPC_POPE_r10_l10_prop.iloc[500:, 1].mean()"
   ]
  },
  {
   "cell_type": "code",
   "execution_count": null,
   "id": "71007ed4",
   "metadata": {},
   "outputs": [],
   "source": [
    "analysis_modules.csv_to_prop_plot(POPC_POPE_10_10, [\"POPC\", \"POPE\"], rolling=50, bg=True,\\\n",
    "                    title=\"POPC & POPE Sorting, Radius = 10nm\", colours=colours, index_scaling=100, \\\n",
    "                    x_label = \"Microseconds\")"
   ]
  },
  {
   "cell_type": "code",
   "execution_count": null,
   "id": "ef73561d",
   "metadata": {},
   "outputs": [],
   "source": [
    "analysis_modules.csv_to_plot(POPC_POPE_20, [\"POPC\", \"POPE\"], title=\"POPC & POPE Sorting, Radius = 20nm\", rolling=50, \\\n",
    "                             bg=True, colours=colours, index_scaling=100, \\\n",
    "                             x_label = \"Microseconds\", out=out_dir + \"POPC_POPE_r20.png\")"
   ]
  },
  {
   "cell_type": "code",
   "execution_count": null,
   "id": "25fedb66",
   "metadata": {},
   "outputs": [],
   "source": [
    "analysis_modules.csv_to_prop_plot(POPC_POPE_20, [\"POPC\", \"POPE\"], rolling=50, bg=True,\\\n",
    "                    title=\"POPC & POPE Sorting, Radius = 20nm\", colours=colours, index_scaling=100, \\\n",
    "                    x_label = \"Microseconds\")"
   ]
  },
  {
   "cell_type": "code",
   "execution_count": null,
   "id": "df3ee4b3",
   "metadata": {},
   "outputs": [],
   "source": [
    "analysis_modules.csv_to_plot(POPC_POPE_30, [\"POPC\", \"POPE\"], title=\"POPC & POPE Sorting, Radius = 30nm\", \\\n",
    "                             rolling=50, bg=True, colours=colours, index_scaling=100, x_label = \"Microseconds\", \\\n",
    "                             out=out_dir + \"POPC_POPE_r30.png\")"
   ]
  },
  {
   "cell_type": "code",
   "execution_count": null,
   "id": "80581e22",
   "metadata": {},
   "outputs": [],
   "source": [
    "analysis_modules.csv_to_prop_plot(POPC_POPE_30, [\"POPC\", \"POPE\"], rolling=50, bg=True,\\\n",
    "                    title=\"POPC & POPE Sorting, Radius = 30nm\", colours=colours, index_scaling=100, \\\n",
    "                    x_label = \"Microseconds\")"
   ]
  },
  {
   "cell_type": "code",
   "execution_count": null,
   "id": "b1816b7b",
   "metadata": {},
   "outputs": [],
   "source": [
    "analysis_modules.csv_to_plot(ER5_10, [\"DOPC\", \"POPC\", \"DOPE\", \"DOPS\", \"DOPA\"], rolling=50, bg=True,\\\n",
    "                    title=\"ER5 Sorting, Radius = 10nm\", colours=colours, index_scaling=100, \\\n",
    "                    x_label = \"Microseconds\", out=out_dir + \"ER5_r10.png\")"
   ]
  },
  {
   "cell_type": "code",
   "execution_count": null,
   "id": "29a975a0",
   "metadata": {},
   "outputs": [],
   "source": [
    "analysis_modules.csv_to_prop_plot(ER5_10, [\"DOPC\", \"POPC\", \"DOPE\", \"DOPS\", \"DOPA\"], rolling=50, bg=True,\\\n",
    "                    title=\"POPC & POPE Sorting, Radius = 10nm\", colours=colours, index_scaling=100, \\\n",
    "                    x_label = \"Microseconds\")"
   ]
  },
  {
   "cell_type": "code",
   "execution_count": null,
   "id": "87fe9225",
   "metadata": {},
   "outputs": [],
   "source": [
    "analysis_modules.csv_to_plot(ER5_20, [\"DOPC\", \"POPC\", \"DOPE\", \"DOPS\", \"DOPA\"], rolling=50, bg=True,\\\n",
    "                    title=\"ER5 Sorting, Radius = 20nm\", colours=colours, index_scaling=100, \\\n",
    "                    x_label = \"Microseconds\", out=out_dir + \"ER5_r20.png\")"
   ]
  },
  {
   "cell_type": "markdown",
   "id": "0f6c3bf5",
   "metadata": {},
   "source": [
    "# Subplot Generation"
   ]
  },
  {
   "cell_type": "code",
   "execution_count": null,
   "id": "dc0a5a78",
   "metadata": {},
   "outputs": [],
   "source": [
    "def csv_to_df_scaleidx(csv, index_scaling):\n",
    "    df = pd.read_csv(csv)\n",
    "    df[df.columns[0]] = df[df.columns[0]]/index_scaling\n",
    "    df = df.set_index(df.columns[0])\n",
    "    return(df)"
   ]
  },
  {
   "cell_type": "code",
   "execution_count": null,
   "id": "c89b3ae3",
   "metadata": {},
   "outputs": [],
   "source": [
    "DP_10_df = csv_to_df_scaleidx(DOPC_POPC_10, 100)\n",
    "DP_20_df = csv_to_df_scaleidx(DOPC_POPC_20, 100)\n",
    "DP_30_df = csv_to_df_scaleidx(DOPC_POPC_30, 100)\n",
    "PP_10_df = csv_to_df_scaleidx(POPC_POPE_10, 100)\n",
    "PP_20_df = csv_to_df_scaleidx(POPC_POPE_20, 100)\n",
    "PP_30_df = csv_to_df_scaleidx(POPC_POPE_30, 100)\n",
    "\n",
    "dfs = [DP_10_df, DP_20_df, DP_30_df, PP_10_df, PP_20_df, PP_30_df]"
   ]
  },
  {
   "cell_type": "code",
   "execution_count": null,
   "id": "24e751cf",
   "metadata": {},
   "outputs": [],
   "source": [
    "def inner_outer_plots(axs, df, resnames, colours):\n",
    "    axs.plot(df[resnames[0] + \" Outer\"].rolling(50).mean(), color=colours[resnames[0]], linewidth=3, linestyle=\"-\", label= resnames[0] + \" Outer\")\n",
    "    axs.plot(df[resnames[0] + \" Inner\"].rolling(50).mean(), color=colours[resnames[0]], linewidth=3, linestyle=\"--\", label= resnames[0] + \" Inner\")\n",
    "    axs.plot(df[resnames[1] + \" Outer\"].rolling(50).mean(), color=colours[resnames[1]], linewidth=3, linestyle=\"-\", label= resnames[1] + \" Outer\")\n",
    "    axs.plot(df[resnames[1] + \" Inner\"].rolling(50).mean(), color=colours[resnames[1]], linewidth=3, linestyle=\"--\", label= resnames[1] + \" Inner\")\n",
    "    \n",
    "    axs.plot(df[resnames[0] + \" Outer\"], color=colours[resnames[0]], linewidth=3, linestyle=\"-\", label= resnames[0] + \" Outer\", alpha=0.15)\n",
    "    axs.plot(df[resnames[0] + \" Inner\"], color=colours[resnames[0]], linewidth=3, linestyle=\"--\", label= resnames[0] + \" Inner\", alpha=0.15)\n",
    "    axs.plot(df[resnames[1] + \" Outer\"], color=colours[resnames[1]], linewidth=3, linestyle=\"-\", label= resnames[1] + \" Outer\", alpha=0.15)\n",
    "    axs.plot(df[resnames[1] + \" Inner\"], color=colours[resnames[1]], linewidth=3, linestyle=\"--\", label= resnames[1] + \" Inner\", alpha=0.15)\n",
    "    "
   ]
  },
  {
   "cell_type": "code",
   "execution_count": null,
   "id": "09316edd",
   "metadata": {},
   "outputs": [],
   "source": [
    "fig, axs = plt.subplots(3,2, figsize=(12, 16))\n",
    "fig.tight_layout(pad=2.0)\n",
    "fig.set_size_inches(12, 10)\n",
    "\n",
    "plt.rc('font', size=10)          # controls default text sizes\n",
    "plt.rc('axes', titlesize=14)     # fontsize of the axes title\n",
    "plt.rc('axes', labelsize=10)    # fontsize of the x and y labels\n",
    "plt.rc('xtick', labelsize=10)    # fontsize of the tick labels\n",
    "plt.rc('ytick', labelsize=10)    # fontsize of the tick labels\n",
    "\n",
    "plt.subplots_adjust(hspace=0.4, wspace=0.7)\n",
    "\n",
    "# DOPC/POPC r10\n",
    "inner_outer_plots(axs[0][0], DP_10_df,[\"DOPC\", \"POPC\"], colours)\n",
    "axs[0][0].set_title(\"DOPC/POPC, r=10nm\")\n",
    "axs[0][0].set_ylabel(\"# lipids\")\n",
    "axs[0][0].set_xlabel(\"time (µs)\")\n",
    "axs[0,0].yaxis.set_ticks(np.arange(1150, 1500, 100))\n",
    "axs[0,0].legend(bbox_to_anchor=(1.1, 1.05),labels=[\"DOPC Outer\", \"DOPC Inner\", \"POPC Outer\", \"POPC Inner\"])\n",
    "\n",
    "# DOPC/POPC r20\n",
    "inner_outer_plots(axs[1][0], DP_20_df,[\"DOPC\", \"POPC\"], colours)\n",
    "axs[1][0].set_title(\"DOPC/POPC, r=20nm\")\n",
    "axs[1][0].set_ylabel(\"# lipids\")\n",
    "axs[1][0].set_xlabel(\"time (µs)\")\n",
    "axs[1,0].yaxis.set_ticks(np.arange(2500, 2900, 100))\n",
    "axs[1,0].legend(bbox_to_anchor=(1.1, 1.05),labels=[\"DOPC Outer\", \"DOPC Inner\", \"POPC Outer\", \"POPC Inner\"])\n",
    "\n",
    "# DOPC/POPC r30\n",
    "inner_outer_plots(axs[2][0], DP_30_df,[\"DOPC\", \"POPC\"], colours)\n",
    "axs[2][0].set_title(\"DOPC/POPC, r=30nm\")\n",
    "axs[2][0].set_ylabel(\"# lipids\")\n",
    "axs[2][0].set_xlabel(\"time (µs)\")\n",
    "axs[2,0].yaxis.set_ticks(np.arange(3800, 4300, 100))\n",
    "axs[2,0].legend(bbox_to_anchor=(1.1, 1.05),labels=[\"DOPC Outer\", \"DOPC Inner\", \"POPC Outer\", \"POPC Inner\"])\n",
    "\n",
    "# POPC/POPE r10\n",
    "inner_outer_plots(axs[0][1], PP_10_df,[\"POPC\", \"POPE\"], colours)\n",
    "axs[0][1].set_title(\"POPC/POPE, r=10nm\")\n",
    "axs[0][1].set_ylabel(\"# lipids\")\n",
    "axs[0][1].set_xlabel(\"time (µs)\")\n",
    "axs[0,1].yaxis.set_ticks(np.arange(1150, 1500, 100))\n",
    "axs[0,1].legend(bbox_to_anchor=(1.1, 1.05),labels=[\"POPC Outer\", \"POPC Inner\", \"POPE Outer\", \"POPE Inner\"])\n",
    "\n",
    "# POPC/POPE r20\n",
    "inner_outer_plots(axs[1][1], PP_20_df,[\"POPC\", \"POPE\"], colours)\n",
    "axs[1][1].set_title(\"POPC/POPE, r=20nm\")\n",
    "axs[1][1].set_ylabel(\"# lipids\")\n",
    "axs[1][1].set_xlabel(\"time (µs)\")\n",
    "axs[1,1].yaxis.set_ticks(np.arange(2500, 2900, 100))\n",
    "axs[1,1].legend(bbox_to_anchor=(1.1, 1.05),labels=[\"POPC Outer\", \"POPC Inner\", \"POPE Outer\", \"POPE Inner\"])\n",
    "\n",
    "# POPC/POPE r30\n",
    "inner_outer_plots(axs[2][1], PP_30_df,[\"POPC\", \"POPE\"], colours)\n",
    "axs[2][1].set_title(\"POPC/POPE, r=30nm\")\n",
    "axs[2][1].set_ylabel(\"# lipids\")\n",
    "axs[2][1].set_xlabel(\"time (µs)\")\n",
    "axs[2,1].yaxis.set_ticks(np.arange(3800, 4300, 100))\n",
    "axs[2,1].legend(bbox_to_anchor=(1.1, 1.05),labels=[\"POPC Outer\", \"POPC Inner\", \"POPE Outer\", \"POPE Inner\"])\n",
    "\n",
    "plt.savefig(out_dir + \"binary_subplots.png\", bbox_inches='tight')"
   ]
  },
  {
   "cell_type": "code",
   "execution_count": null,
   "id": "6026c00f",
   "metadata": {},
   "outputs": [],
   "source": [
    "ER5_10_df = csv_to_df_scaleidx(ER5_10, 100)\n",
    "ER5_20_df = csv_to_df_scaleidx(ER5_20, 100)\n",
    "ER5_30_df = csv_to_df_scaleidx(ER5_30, 100)\n",
    "\n",
    "dfs = [ER5_10_df, ER5_20_df, ER5_30_df]"
   ]
  },
  {
   "cell_type": "code",
   "execution_count": null,
   "id": "e224e595",
   "metadata": {},
   "outputs": [],
   "source": [
    "def inner_outer_plots(axs, df, resnames, colours):\n",
    "    for resname in resnames:\n",
    "        axs.plot(df[str(resname) + \" Outer\"].rolling(50).mean(), color=colours[resname], linewidth=3, linestyle=\"-\", label= str(resname) + \" Outer\")\n",
    "        axs.plot(df[str(resname) + \" Inner\"].rolling(50).mean(), color=colours[resname], linewidth=3, linestyle=\":\", label= str(resname) + \" Inner\")\n",
    "        \n",
    "    for resname in resnames:\n",
    "        axs.plot(df[str(resname) + \" Outer\"], color=colours[resname], linewidth=3, linestyle=\"-\", alpha=0.05)\n",
    "        axs.plot(df[str(resname) + \" Inner\"], color=colours[resname], linewidth=3, linestyle=\"--\", alpha=0.05)"
   ]
  },
  {
   "cell_type": "code",
   "execution_count": null,
   "id": "d1bb4c40",
   "metadata": {},
   "outputs": [],
   "source": [
    "fig, axs = plt.subplots(3,2, figsize=(12, 16))\n",
    "fig.tight_layout(pad=2.0)\n",
    "fig.set_size_inches(12, 10)\n",
    "\n",
    "plt.rc('font', size=10)          # controls default text sizes\n",
    "plt.rc('axes', titlesize=14)     # fontsize of the axes title\n",
    "plt.rc('axes', labelsize=10)    # fontsize of the x and y labels\n",
    "plt.rc('xtick', labelsize=10)    # fontsize of the tick labels\n",
    "plt.rc('ytick', labelsize=10)    # fontsize of the tick labels\n",
    "\n",
    "plt.subplots_adjust(hspace=0.4, wspace=0.7)\n",
    "\n",
    "# ER5 r10\n",
    "inner_outer_plots(axs[0][0], ER5_10_df,[\"DOPC\", \"POPC\", \"DOPE\"], colours)\n",
    "axs[0][0].set_title(\"ER5, r=10nm\")\n",
    "axs[0][0].set_ylabel(\"# lipids\")\n",
    "axs[0][0].set_xlabel(\"time (µs)\")\n",
    "axs[0,0].yaxis.set_ticks(np.arange(650, 950, 50))\n",
    "axs[0,0].legend(bbox_to_anchor=(1.1, 1.05),labels=[\"DOPC Outer\", \"DOPC Inner\", \"POPC Outer\", \"POPC Inner\", \"DOPE Outer\"])\n",
    "\n",
    "# ER5 r10 2\n",
    "inner_outer_plots(axs[0][1], ER5_10_df,[\"DOPS\", \"DOPA\"], colours)\n",
    "axs[0][1].set_title(\"ER5, r=10nm\")\n",
    "axs[0][1].set_ylabel(\"# lipids\")\n",
    "axs[0][1].set_xlabel(\"time (µs)\")\n",
    "axs[0,1].yaxis.set_ticks(np.arange(110, 160, 10))\n",
    "axs[0,1].legend(bbox_to_anchor=(1.1, 1.05),labels=[\"DOPS Outer\", \"DOPS Inner\", \"DOPA Outer\", \"DOPA Inner\"])\n",
    "\n",
    "# ER5 r20\n",
    "inner_outer_plots(axs[1][0], ER5_20_df,[\"DOPC\", \"POPC\", \"DOPE\"], colours)\n",
    "axs[1][0].set_title(\"ER5, r=20nm\")\n",
    "axs[1][0].set_ylabel(\"# lipids\")\n",
    "axs[1][0].set_xlabel(\"time (µs)\")\n",
    "axs[1,0].yaxis.set_ticks(np.arange(1450,1750, 50))\n",
    "axs[1,0].legend(bbox_to_anchor=(1.1, 1.05),labels=[\"DOPC Outer\", \"DOPC Inner\", \"POPC Outer\", \"POPC Inner\", \"DOPE Outer\"])\n",
    "\n",
    "# ER5 r20 2\n",
    "inner_outer_plots(axs[1][1], ER5_20_df,[\"DOPS\", \"DOPA\"], colours)\n",
    "axs[1][1].set_title(\"ER5, r=20nm\")\n",
    "axs[1][1].set_ylabel(\"# lipids\")\n",
    "axs[1][1].set_xlabel(\"time (µs)\")\n",
    "axs[1,1].yaxis.set_ticks(np.arange(250, 285, 10))\n",
    "axs[1,1].legend(bbox_to_anchor=(1.1, 1.05),labels=[\"DOPS Outer\", \"DOPS Inner\", \"DOPA Outer\", \"DOPA Inner\"])\n",
    "\n",
    "\n",
    "# ER5 r30\n",
    "inner_outer_plots(axs[2][0], ER5_30_df,[\"DOPC\", \"POPC\", \"DOPE\"], colours)\n",
    "axs[2][0].set_title(\"ER5, r=30nm\")\n",
    "axs[2][0].set_ylabel(\"# lipids\")\n",
    "axs[2][0].set_xlabel(\"time (µs)\")\n",
    "axs[2,0].yaxis.set_ticks(np.arange(2200,2600, 50))\n",
    "axs[2,0].legend(bbox_to_anchor=(1.1, 1.05),labels=[\"DOPC Outer\", \"DOPC Inner\", \"POPC Outer\", \"POPC Inner\", \"DOPE Outer\"])\n",
    "\n",
    "# ER5 r20 2\n",
    "inner_outer_plots(axs[2][1], ER5_30_df,[\"DOPS\", \"DOPA\"], colours)\n",
    "axs[2][1].set_title(\"ER5, r=30nm\")\n",
    "axs[2][1].set_ylabel(\"# lipids\")\n",
    "axs[2][1].set_xlabel(\"time (µs)\")\n",
    "axs[2,1].yaxis.set_ticks(np.arange(350, 440, 10))\n",
    "axs[2,1].legend(bbox_to_anchor=(1.1, 1.05),labels=[\"DOPS Outer\", \"DOPS Inner\", \"DOPA Outer\", \"DOPA Inner\"])\n",
    "\n",
    "plt.savefig(out_dir + \"ER5_subplots.png\", bbox_inches='tight')"
   ]
  },
  {
   "cell_type": "code",
   "execution_count": null,
   "id": "2911ef32",
   "metadata": {},
   "outputs": [],
   "source": []
  },
  {
   "cell_type": "code",
   "execution_count": null,
   "id": "4cdcbfa0",
   "metadata": {},
   "outputs": [],
   "source": []
  }
 ],
 "metadata": {
  "kernelspec": {
   "display_name": "Python 3 (ipykernel)",
   "language": "python",
   "name": "python3"
  },
  "language_info": {
   "codemirror_mode": {
    "name": "ipython",
    "version": 3
   },
   "file_extension": ".py",
   "mimetype": "text/x-python",
   "name": "python",
   "nbconvert_exporter": "python",
   "pygments_lexer": "ipython3",
   "version": "3.10.5"
  },
  "vscode": {
   "interpreter": {
    "hash": "31f2aee4e71d21fbe5cf8b01ff0e069b9275f58929596ceb00d14d90e3e16cd6"
   }
  }
 },
 "nbformat": 4,
 "nbformat_minor": 5
}
